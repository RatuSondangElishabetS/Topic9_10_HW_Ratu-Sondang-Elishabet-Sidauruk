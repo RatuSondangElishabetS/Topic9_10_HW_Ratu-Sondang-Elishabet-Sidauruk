{
  "metadata": {
    "language_info": {
      "codemirror_mode": {
        "name": "python",
        "version": 3
      },
      "file_extension": ".py",
      "mimetype": "text/x-python",
      "name": "python",
      "nbconvert_exporter": "python",
      "pygments_lexer": "ipython3",
      "version": "3.8"
    },
    "kernelspec": {
      "name": "python",
      "display_name": "Python (Pyodide)",
      "language": "python"
    }
  },
  "nbformat_minor": 4,
  "nbformat": 4,
  "cells": [
    {
      "cell_type": "code",
      "source": "import scipy.stats as stats\nimport pandas as pd\nimport numpy as np",
      "metadata": {
        "trusted": true
      },
      "execution_count": 23,
      "outputs": []
    },
    {
      "cell_type": "code",
      "source": "#Transactions Amount 30 days ($)\n#Pengujian dilakukan terhadap 20 pelanggan.\ndata = pd.DataFrame({\"Transactions\": [100,150,50,100,130,120,100,110,75,65,150,120,50,100,100,140,90,150,50,90]})\ndata",
      "metadata": {
        "trusted": true
      },
      "execution_count": 36,
      "outputs": [
        {
          "execution_count": 36,
          "output_type": "execute_result",
          "data": {
            "text/plain": "    Transactions\n0            100\n1            150\n2             50\n3            100\n4            130\n5            120\n6            100\n7            110\n8             75\n9             65\n10           150\n11           120\n12            50\n13           100\n14           100\n15           140\n16            90\n17           150\n18            50\n19            90",
            "text/html": "<div>\n<style scoped>\n    .dataframe tbody tr th:only-of-type {\n        vertical-align: middle;\n    }\n\n    .dataframe tbody tr th {\n        vertical-align: top;\n    }\n\n    .dataframe thead th {\n        text-align: right;\n    }\n</style>\n<table border=\"1\" class=\"dataframe\">\n  <thead>\n    <tr style=\"text-align: right;\">\n      <th></th>\n      <th>Transactions</th>\n    </tr>\n  </thead>\n  <tbody>\n    <tr>\n      <th>0</th>\n      <td>100</td>\n    </tr>\n    <tr>\n      <th>1</th>\n      <td>150</td>\n    </tr>\n    <tr>\n      <th>2</th>\n      <td>50</td>\n    </tr>\n    <tr>\n      <th>3</th>\n      <td>100</td>\n    </tr>\n    <tr>\n      <th>4</th>\n      <td>130</td>\n    </tr>\n    <tr>\n      <th>5</th>\n      <td>120</td>\n    </tr>\n    <tr>\n      <th>6</th>\n      <td>100</td>\n    </tr>\n    <tr>\n      <th>7</th>\n      <td>110</td>\n    </tr>\n    <tr>\n      <th>8</th>\n      <td>75</td>\n    </tr>\n    <tr>\n      <th>9</th>\n      <td>65</td>\n    </tr>\n    <tr>\n      <th>10</th>\n      <td>150</td>\n    </tr>\n    <tr>\n      <th>11</th>\n      <td>120</td>\n    </tr>\n    <tr>\n      <th>12</th>\n      <td>50</td>\n    </tr>\n    <tr>\n      <th>13</th>\n      <td>100</td>\n    </tr>\n    <tr>\n      <th>14</th>\n      <td>100</td>\n    </tr>\n    <tr>\n      <th>15</th>\n      <td>140</td>\n    </tr>\n    <tr>\n      <th>16</th>\n      <td>90</td>\n    </tr>\n    <tr>\n      <th>17</th>\n      <td>150</td>\n    </tr>\n    <tr>\n      <th>18</th>\n      <td>50</td>\n    </tr>\n    <tr>\n      <th>19</th>\n      <td>90</td>\n    </tr>\n  </tbody>\n</table>\n</div>"
          },
          "metadata": {}
        }
      ]
    },
    {
      "cell_type": "code",
      "source": "#perform one sample t-test\nstats.ttest_1samp(a=data, popmean=100)",
      "metadata": {
        "trusted": true
      },
      "execution_count": 25,
      "outputs": [
        {
          "execution_count": 25,
          "output_type": "execute_result",
          "data": {
            "text/plain": "Ttest_1sampResult(statistic=array([0.27316577]), pvalue=array([0.78767289]))"
          },
          "metadata": {}
        }
      ]
    },
    {
      "cell_type": "code",
      "source": "#Statistik uji t adalah 0.27316577 dan p-value adalah 0.78767289",
      "metadata": {
        "trusted": true
      },
      "execution_count": 26,
      "outputs": []
    },
    {
      "cell_type": "code",
      "source": "#Jika menggunakan alpha = 0,05 (alpha = 5%).\n#Karena nilai P-value lebih besar dari alpha artinya kita gagal mereject H0\n#Kesimpulannya: Rata-rata sama dengan 100\n\n#Jika menggunakan statistik t, kita harus menemukan critical region terlebih dahulu:",
      "metadata": {},
      "execution_count": null,
      "outputs": []
    },
    {
      "cell_type": "code",
      "source": "#critical region :\nstats.t.ppf(1-(0.05/2), 19)",
      "metadata": {
        "trusted": true
      },
      "execution_count": 27,
      "outputs": [
        {
          "execution_count": 27,
          "output_type": "execute_result",
          "data": {
            "text/plain": "2.093024054408263"
          },
          "metadata": {}
        }
      ]
    },
    {
      "cell_type": "code",
      "source": "# Critical Region: t < - 2.09 or t > 2.09\n# As t statistic is not in the , then we fail to reject H0\n# Karena statistik t tidak berada di critical region, artinya kita gagal mereject H0\n#Kesimpulannya: Rata-rata sama dengan 100",
      "metadata": {
        "trusted": true
      },
      "execution_count": 28,
      "outputs": []
    },
    {
      "cell_type": "code",
      "source": "#For One tailed test: (pvalue/2)\n0.78767289/2",
      "metadata": {
        "trusted": true
      },
      "execution_count": 29,
      "outputs": [
        {
          "execution_count": 29,
          "output_type": "execute_result",
          "data": {
            "text/plain": "0.393836445"
          },
          "metadata": {}
        }
      ]
    },
    {
      "cell_type": "code",
      "source": "#Jika menggunakan alfa = 0,05, maka untuk menentukan konklusi adalah P-value/2 = 0,40. \n#Koklusi P-value/2 lebih besar dari alpha, artinya kita gagal mereject H0\n#Kesimpulannya: Rata-rata sama dengan 100\n\n#Jika menggunakan statistik t, kita harus menemukan critical region terlebih dahulu:",
      "metadata": {
        "trusted": true
      },
      "execution_count": 30,
      "outputs": []
    },
    {
      "cell_type": "code",
      "source": "# If H1: mean > 100 (right side)\nstats.t.ppf(1-0.05, 19)",
      "metadata": {
        "trusted": true
      },
      "execution_count": 31,
      "outputs": [
        {
          "execution_count": 31,
          "output_type": "execute_result",
          "data": {
            "text/plain": "1.729132811521367"
          },
          "metadata": {}
        }
      ]
    },
    {
      "cell_type": "code",
      "source": "# Critical Region: t > 1.73\n# Karena statistik t tidak berada di critical region, artinya kita gagal mereject H0\n#Kesimpulannya: Rata-rata sama dengan 100",
      "metadata": {
        "trusted": true
      },
      "execution_count": 32,
      "outputs": []
    },
    {
      "cell_type": "code",
      "source": "# If H1: mean < 100 (left side)\nstats.t.ppf(0.05, 19)",
      "metadata": {
        "trusted": true
      },
      "execution_count": 33,
      "outputs": [
        {
          "execution_count": 33,
          "output_type": "execute_result",
          "data": {
            "text/plain": "-1.7291328115213678"
          },
          "metadata": {}
        }
      ]
    },
    {
      "cell_type": "code",
      "source": "# Critical Region: t < -1.73\n# Karena statistik t tidak berada di critical region, artinya kita gagal mereject H0\n#Kesimpulannya: Rata-rata sama dengan 100",
      "metadata": {
        "trusted": true
      },
      "execution_count": 34,
      "outputs": []
    }
  ]
}